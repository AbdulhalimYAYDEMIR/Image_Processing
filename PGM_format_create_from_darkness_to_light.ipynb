{
 "cells": [
  {
   "cell_type": "code",
   "execution_count": null,
   "id": "ffa1c2f2",
   "metadata": {},
   "outputs": [],
   "source": [
    "# Abdülhalim YAYDEMİR"
   ]
  },
  {
   "cell_type": "markdown",
   "id": "571b369d",
   "metadata": {},
   "source": [
    "### ##  NOT: yazma işlemi 'ab' modunda yapıldığından kodu tekrar çalıştırırken önceki oluşturulan dosyayı siliniz."
   ]
  },
  {
   "cell_type": "code",
   "execution_count": 7,
   "id": "93e11f99",
   "metadata": {
    "scrolled": true
   },
   "outputs": [
    {
     "name": "stdout",
     "output_type": "stream",
     "text": [
      "Array :\n",
      "\n",
      "[10, 13, 16, 19, 22, 25, 28, 31, 34, 37, 40, 43, 46, 49, 52, 55, 58, 61, 64, 67, 70, 73, 76, 79, 82, 85, 88, 91, 94, 97, 100, 103, 106, 109, 112, 115, 118, 121, 124, 127, 130, 133, 136, 139, 142, 145, 148, 151, 154, 157]\n",
      "\n",
      "\n",
      "Byte :\n",
      "\n",
      "b'\\n\\r\\x10\\x13\\x16\\x19\\x1c\\x1f\"%(+.147:=@CFILORUX[^adgjmpsvy|\\x7f\\x82\\x85\\x88\\x8b\\x8e\\x91\\x94\\x97\\x9a\\x9d'\n",
      "\n"
     ]
    }
   ],
   "source": [
    "\n",
    "# piksel değerleri tutmak için 50 elemanlı array oluşturuldu.\n",
    "array=[0,0,0,0,0,0,0,0,0,0,0,0,0,0,0,0,0,0,0,0,0,0,0,0,0,0,0,0,0,0,0,0,0,0,0,0,0,0,0,0,0,0,0,0,0,0,0,0,0,0]\n",
    "\n",
    "\n",
    "# piksel değerleri verildiği gibi girildi.\n",
    "a=10\n",
    "\n",
    "for i in range(50):\n",
    "    array[i]=a\n",
    "    a=a+3\n",
    "    \n",
    "print('Array :\\n')\n",
    "print(array)\n",
    "print('\\n')\n",
    "\n",
    "\n",
    "# piksel değerleri ASCII' ye dönüştürülüp byte türünde saklandı.\n",
    "byte=b''\n",
    "    \n",
    "for i in range(50):\n",
    "    byte+=(array[i]).to_bytes()\n",
    "    \n",
    "print('Byte :\\n')\n",
    "print(byte)\n",
    "print()\n",
    "\n",
    "\n",
    "#dosya hakkındaki bilgiler manuel olarak girildi. Pikseller hakkındaki bilgiler byte değişkeninden çekiliyor.\n",
    "#Aynı bilgi 50 kez tekrar ettiğinden 50 kez yazdırıldı.\n",
    "with open(\"karanliktanaydinliga.pgm\", \"ab\") as fileObject:\n",
    "    fileObject.write(b'P5\\n# karanliktanaydinliga.pgm\\n50 50\\n255\\n')\n",
    "    for i in range(50):\n",
    "        fileObject.write(byte)"
   ]
  }
 ],
 "metadata": {
  "kernelspec": {
   "display_name": "Python 3 (ipykernel)",
   "language": "python",
   "name": "python3"
  },
  "language_info": {
   "codemirror_mode": {
    "name": "ipython",
    "version": 3
   },
   "file_extension": ".py",
   "mimetype": "text/x-python",
   "name": "python",
   "nbconvert_exporter": "python",
   "pygments_lexer": "ipython3",
   "version": "3.11.4"
  }
 },
 "nbformat": 4,
 "nbformat_minor": 5
}
