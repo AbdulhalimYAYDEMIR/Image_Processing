{
 "cells": [
  {
   "cell_type": "code",
   "execution_count": null,
   "id": "025350f1",
   "metadata": {},
   "outputs": [],
   "source": [
    "# Abdülhalim YAYDEMİR"
   ]
  },
  {
   "cell_type": "markdown",
   "id": "4f66576c",
   "metadata": {},
   "source": [
    "###   NOT: yazma işlemi 'ab' modunda yapıldığından kodu tekrar çalıştırırken önceki oluşturulan dosyayı siliniz."
   ]
  },
  {
   "cell_type": "code",
   "execution_count": 11,
   "id": "92cbb236",
   "metadata": {},
   "outputs": [
    {
     "name": "stdout",
     "output_type": "stream",
     "text": [
      "ASCII  : [['e', 'f', 'g'], ['h', 'i', 'j'], ['k', 'l', 'm']]\n",
      "STRİNG : efghijklm\n",
      "BYTE   : b'efghijklm'\n"
     ]
    }
   ],
   "source": [
    "\n",
    "#3x3 array oluşturulup piksel değerleri girildi\n",
    "array=[[101,102,103],\n",
    "      [104,105,106],\n",
    "      [107,108,109]]\n",
    "\n",
    "# piksel değerlerinin ASCII'ye çevrilmiş halini tutacak array\n",
    "ascii=[[0,0,0],\n",
    "      [0,0,0],\n",
    "      [0,0,0]]\n",
    "\n",
    "\n",
    "#piksel değerleri ASCII'ye dönüştürülüyor\n",
    "for i in range(3):\n",
    "    for j in range(3):\n",
    "        ascii[i][j]=chr(array[i][j])\n",
    "print('ASCII  :',end=\" \")        \n",
    "print(ascii)\n",
    "\n",
    "\n",
    "\n",
    "\n",
    "#karakter olarak saklanan değerler tek bir string olarak birleştiriliyor\n",
    "str=[0,0,0]\n",
    "\n",
    "for i in range(3):\n",
    "    str[i]=''.join(ascii[i])\n",
    "    \n",
    "string=str[0]+str[1]+str[2]    \n",
    "print('STRİNG :',end=\" \")    \n",
    "print(string)\n",
    "\n",
    "\n",
    "\n",
    "# string haline getirilen değerler byte türüne dönüştürülüyor\n",
    "byte=bytes(string,'UTF-8')\n",
    "print('BYTE   :',end=\" \")        \n",
    "print(byte)\n",
    "\n",
    "\n",
    "\n",
    "#dosya hakkındaki bilgiler manuel olarak girildi. Pikseller hakkındaki bilgiler byte değişkeninden çekiliyor.\n",
    "with open(\"test.pgm\", \"ab\") as fileObject:\n",
    "    fileObject.write(b'P5\\n# test.pgm\\n3 3\\n255\\n')\n",
    "    fileObject.write(byte)\n"
   ]
  }
 ],
 "metadata": {
  "kernelspec": {
   "display_name": "Python 3 (ipykernel)",
   "language": "python",
   "name": "python3"
  },
  "language_info": {
   "codemirror_mode": {
    "name": "ipython",
    "version": 3
   },
   "file_extension": ".py",
   "mimetype": "text/x-python",
   "name": "python",
   "nbconvert_exporter": "python",
   "pygments_lexer": "ipython3",
   "version": "3.11.4"
  }
 },
 "nbformat": 4,
 "nbformat_minor": 5
}
